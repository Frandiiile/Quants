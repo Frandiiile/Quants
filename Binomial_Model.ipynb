{
 "cells": [
  {
   "cell_type": "markdown",
   "metadata": {},
   "source": [
    "# Options Calculator with Binomial model"
   ]
  },
  {
   "cell_type": "markdown",
   "metadata": {},
   "source": [
    "#### Input variables:\n",
    "  * Underlying price (per share): S; \n",
    "  * Strike price of the option (per share): K;\n",
    "  * Time to maturity (years): T;\n",
    "  * Continuously compounding risk-free interest rate: r;\n",
    "  * Volatility: sigma;\n",
    "  * Number of binomial steps: N"
   ]
  },
  {
   "cell_type": "code",
   "execution_count": 4,
   "metadata": {
    "collapsed": true
   },
   "outputs": [],
   "source": [
    "## import certain packages\n",
    "import math\n",
    "from datetime import datetime, date\n",
    "import numpy as np\n",
    "import matplotlib.pyplot as plt\n",
    "import pandas as pd\n",
    "from pandas import DataFrame"
   ]
  },
  {
   "cell_type": "code",
   "execution_count": 5,
   "metadata": {
    "collapsed": true
   },
   "outputs": [],
   "source": [
    "def Cox_Ross_Rubinstein_Tree (S,K,T,r,sigma,N, Option_type):\n",
    "    \n",
    "    # Underlying price (per share): S; \n",
    "    # Strike price of the option (per share): K;\n",
    "    # Time to maturity (years): T;\n",
    "    # Continuously compounding risk-free interest rate: r;\n",
    "    # Volatility: sigma;\n",
    "    # Number of binomial steps: N;\n",
    "\n",
    "        # The factor by which the price rises (assuming it rises) = u ;\n",
    "        # The factor by which the price falls (assuming it falls) = d ;\n",
    "        # The probability of a price rise = pu ;\n",
    "        # The probability of a price fall = pd ;\n",
    "        # discount rate = disc ;\n",
    "    \n",
    "    u=math.exp(sigma*math.sqrt(T/N));\n",
    "    d=math.exp(-sigma*math.sqrt(T/N));\n",
    "    pu=((math.exp(r*T/N))-d)/(u-d);\n",
    "    pd=1-pu;\n",
    "    disc=math.exp(-r*T/N);\n",
    "\n",
    "    St = [0] * (N+1)\n",
    "    C = [0] * (N+1)\n",
    "    \n",
    "    St[0]=S*d**N;\n",
    "    \n",
    "    for j in range(1, N+1): \n",
    "        St[j] = St[j-1] * u/d;\n",
    "    \n",
    "    for j in range(1, N+1):\n",
    "        if Option_type == 'P':\n",
    "            C[j] = max(K-St[j],0);\n",
    "        elif Option_type == 'C':\n",
    "            C[j] = max(St[j]-K,0);\n",
    "    \n",
    "    for i in range(N, 0, -1):\n",
    "        for j in range(0, i):\n",
    "            C[j] = disc*(pu*C[j+1]+pd*C[j]);\n",
    "            \n",
    "    return C[0]\n",
    "\n",
    "\n",
    "## define Jarrow_Rudd binomial model    \n",
    "def Jarrow_Rudd_Tree (S,K,T,r,sigma,N, Option_type):\n",
    "\n",
    "    # Underlying price (per share): S; \n",
    "    # Strike price of the option (per share): K;\n",
    "    # Time to maturity (years): T;\n",
    "    # Continuously compounding risk-free interest rate: r;\n",
    "    # Volatility: sigma;\n",
    "    # Steps: N;\n",
    "    \n",
    "        # The factor by which the price rises (assuming it rises) = u ;\n",
    "        # The factor by which the price falls (assuming it falls) = d ;\n",
    "        # The probability of a price rise = pu ;\n",
    "        # The probability of a price fall = pd ;\n",
    "        # discount rate = disc ;\n",
    "        \n",
    "    u=math.exp((r-(sigma**2/2))*T/N+sigma*math.sqrt(T/N));\n",
    "    d=math.exp((r-(sigma**2/2))*T/N-sigma*math.sqrt(T/N));\n",
    "    pu=0.5;\n",
    "    pd=1-pu;\n",
    "    disc=math.exp(-r*T/N);\n",
    "\n",
    "    St = [0] * (N+1)\n",
    "    C = [0] * (N+1)\n",
    "    \n",
    "    St[0]=S*d**N;\n",
    "    \n",
    "    for j in range(1, N+1): \n",
    "        St[j] = St[j-1] * u/d;\n",
    "    \n",
    "    for j in range(1, N+1):\n",
    "        if Option_type == 'P':\n",
    "            C[j] = max(K-St[j],0);\n",
    "        elif Option_type == 'C':\n",
    "            C[j] = max(St[j]-K,0);\n",
    "    \n",
    "    for i in range(N, 0, -1):\n",
    "        for j in range(0, i):\n",
    "            C[j] = disc*(pu*C[j+1]+pd*C[j]);\n",
    "            \n",
    "    return C[0]"
   ]
  },
  {
   "cell_type": "markdown",
   "metadata": {},
   "source": [
    "##### Input"
   ]
  },
  {
   "cell_type": "code",
   "execution_count": 6,
   "metadata": {},
   "outputs": [],
   "source": [
    "S=100;\n",
    "K=100;\n",
    "T=1;\n",
    "r=0.05;\n",
    "sigma=0.2;"
   ]
  },
  {
   "cell_type": "code",
   "execution_count": 7,
   "metadata": {},
   "outputs": [
    {
     "data": {
      "text/html": [
       "<div>\n",
       "<style scoped>\n",
       "    .dataframe tbody tr th:only-of-type {\n",
       "        vertical-align: middle;\n",
       "    }\n",
       "\n",
       "    .dataframe tbody tr th {\n",
       "        vertical-align: top;\n",
       "    }\n",
       "\n",
       "    .dataframe thead th {\n",
       "        text-align: right;\n",
       "    }\n",
       "</style>\n",
       "<table border=\"1\" class=\"dataframe\">\n",
       "  <thead>\n",
       "    <tr style=\"text-align: right;\">\n",
       "      <th></th>\n",
       "      <th>Symbol</th>\n",
       "      <th>Input</th>\n",
       "    </tr>\n",
       "  </thead>\n",
       "  <tbody>\n",
       "    <tr>\n",
       "      <th>Underlying price</th>\n",
       "      <td>S</td>\n",
       "      <td>100.00</td>\n",
       "    </tr>\n",
       "    <tr>\n",
       "      <th>Strike price</th>\n",
       "      <td>K</td>\n",
       "      <td>100.00</td>\n",
       "    </tr>\n",
       "    <tr>\n",
       "      <th>Time to maturity</th>\n",
       "      <td>T</td>\n",
       "      <td>1.00</td>\n",
       "    </tr>\n",
       "    <tr>\n",
       "      <th>Risk-free interest rate</th>\n",
       "      <td>r</td>\n",
       "      <td>0.05</td>\n",
       "    </tr>\n",
       "    <tr>\n",
       "      <th>Volatility</th>\n",
       "      <td>sigma</td>\n",
       "      <td>0.20</td>\n",
       "    </tr>\n",
       "  </tbody>\n",
       "</table>\n",
       "</div>"
      ],
      "text/plain": [
       "                        Symbol   Input\n",
       "Underlying price             S  100.00\n",
       "Strike price                 K  100.00\n",
       "Time to maturity             T    1.00\n",
       "Risk-free interest rate      r    0.05\n",
       "Volatility               sigma    0.20"
      ]
     },
     "execution_count": 7,
     "metadata": {},
     "output_type": "execute_result"
    }
   ],
   "source": [
    "data = {'Symbol': ['S', 'K', 'T', 'r', 'sigma'],\n",
    "        'Input': [S, K, T , r , sigma]}\n",
    "input_frame = DataFrame(data, columns=['Symbol', 'Input'], \n",
    "                   index=['Underlying price', 'Strike price', 'Time to maturity', 'Risk-free interest rate', 'Volatility'])\n",
    "input_frame"
   ]
  },
  {
   "cell_type": "markdown",
   "metadata": {},
   "source": [
    "##### Output"
   ]
  },
  {
   "cell_type": "code",
   "execution_count": 8,
   "metadata": {},
   "outputs": [
    {
     "data": {
      "text/html": [
       "<div>\n",
       "<style scoped>\n",
       "    .dataframe tbody tr th:only-of-type {\n",
       "        vertical-align: middle;\n",
       "    }\n",
       "\n",
       "    .dataframe tbody tr th {\n",
       "        vertical-align: top;\n",
       "    }\n",
       "\n",
       "    .dataframe thead th {\n",
       "        text-align: right;\n",
       "    }\n",
       "</style>\n",
       "<table border=\"1\" class=\"dataframe\">\n",
       "  <thead>\n",
       "    <tr style=\"text-align: right;\">\n",
       "      <th></th>\n",
       "      <th>Option</th>\n",
       "      <th>Price</th>\n",
       "    </tr>\n",
       "  </thead>\n",
       "  <tbody>\n",
       "    <tr>\n",
       "      <th>Cox-Ross-Rubinstein</th>\n",
       "      <td>Call</td>\n",
       "      <td>0.107222</td>\n",
       "    </tr>\n",
       "    <tr>\n",
       "      <th>Cox-Ross-Rubinstein</th>\n",
       "      <td>Put</td>\n",
       "      <td>0.057234</td>\n",
       "    </tr>\n",
       "    <tr>\n",
       "      <th>Jarrow-Rudd</th>\n",
       "      <td>Call</td>\n",
       "      <td>0.107232</td>\n",
       "    </tr>\n",
       "    <tr>\n",
       "      <th>Jarrow-Rudd</th>\n",
       "      <td>Put</td>\n",
       "      <td>0.057244</td>\n",
       "    </tr>\n",
       "  </tbody>\n",
       "</table>\n",
       "</div>"
      ],
      "text/plain": [
       "                    Option     Price\n",
       "Cox-Ross-Rubinstein   Call  0.107222\n",
       "Cox-Ross-Rubinstein    Put  0.057234\n",
       "Jarrow-Rudd           Call  0.107232\n",
       "Jarrow-Rudd            Put  0.057244"
      ]
     },
     "execution_count": 8,
     "metadata": {},
     "output_type": "execute_result"
    }
   ],
   "source": [
    "r = r/100; sigma = sigma/100;\n",
    "binomial_model_pricing = {'Option' : ['Call', 'Put', 'Call', 'Put'],\n",
    "                          'Price': [Cox_Ross_Rubinstein_Tree(S, K, T, r, sigma,1000,'C'), Cox_Ross_Rubinstein_Tree(S, K, T, r, sigma,1000,'P'),\n",
    "                                     Jarrow_Rudd_Tree(S, K, T, r, sigma,1000,'C'), Jarrow_Rudd_Tree(S, K, T, r, sigma,1000,'P')]}\n",
    "binomial_model_pricing_frame = DataFrame(binomial_model_pricing, columns=[ 'Option', 'Price'], \n",
    "                   index = ['Cox-Ross-Rubinstein','Cox-Ross-Rubinstein', 'Jarrow-Rudd', 'Jarrow-Rudd'])                                        \n",
    "binomial_model_pricing_frame"
   ]
  },
  {
   "cell_type": "markdown",
   "metadata": {},
   "source": [
    "##### Plot call / put options price with different steps"
   ]
  },
  {
   "cell_type": "code",
   "execution_count": 9,
   "metadata": {},
   "outputs": [
    {
     "data": {
      "image/png": "[encoded data removed]",
      "text/plain": [
       "<Figure size 640x480 with 1 Axes>"
      ]
     },
     "metadata": {},
     "output_type": "display_data"
    }
   ],
   "source": [
    "## call option with different steps \n",
    "runs1 = list(range(50,5000,50))\n",
    "CRR1 = []\n",
    "JR1 = []\n",
    "\n",
    "for i in runs1:\n",
    "    CRR1.append(Cox_Ross_Rubinstein_Tree(S, K, T, r, sigma,i ,'C'))\n",
    "    JR1.append(Jarrow_Rudd_Tree(S, K, T, r, sigma,i ,'C'))\n",
    "\n",
    "plt.plot(runs1, CRR1, label='Cox_Ross_Rubinstein')\n",
    "plt.plot(runs1, JR1, label='Jarrow_Rudd')\n",
    "plt.legend(loc='upper right')\n",
    "plt.show()"
   ]
  }
 ],
 "metadata": {
  "kernelspec": {
   "display_name": "Python 3",
   "language": "python",
   "name": "python3"
  },
  "language_info": {
   "codemirror_mode": {
    "name": "ipython",
    "version": 3
   },
   "file_extension": ".py",
   "mimetype": "text/x-python",
   "name": "python",
   "nbconvert_exporter": "python",
   "pygments_lexer": "ipython3",
   "version": "3.11.3"
  }
 },
 "nbformat": 4,
 "nbformat_minor": 2
}
